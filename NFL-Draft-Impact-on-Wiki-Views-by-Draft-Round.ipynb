{
 "cells": [
  {
   "cell_type": "markdown",
   "metadata": {
    "collapsed": true
   },
   "source": [
    "# NFL Draft Impact on Wikipedia Views by Draft Round\n",
    "This program explores the impact that each NFL draft round has on a given player's Wikipedia views. It seeks to answer questions including:\n",
    "    *How many additional views does a player's Wikipedia page get once they are drafted into the NFL?\n",
    "    *How many additional views is the first round worth compared to later rounds?\n",
    "\n",
    "Methodology:\n",
    "    1. Scrape 2018 NFL draft data from Pro-Football-Reference.com\n",
    "    2. Collect Wikipedia page views for each drafted player using the mwviews API\n",
    "    3. Employ ANCOVA analysis to compare pre-draft and post-draft mean Wikipedia page views by draft round "
   ]
  },
  {
   "cell_type": "markdown",
   "metadata": {},
   "source": [
    "### Setup"
   ]
  },
  {
   "cell_type": "code",
   "execution_count": 1,
   "metadata": {
    "collapsed": true,
    "scrolled": true
   },
   "outputs": [],
   "source": [
    "import pandas as pd\n",
    "from urllib.request import urlopen\n",
    "from bs4 import BeautifulSoup\n",
    "import mwviews\n",
    "from mwviews.api import PageviewsClient\n",
    "import matplotlib\n",
    "import matplotlib.pyplot as plt\n",
    "%matplotlib inline"
   ]
  },
  {
   "cell_type": "markdown",
   "metadata": {},
   "source": [
    "## 1) Scrape 2018 NFL draft data from Pro-Football-Reference.com\n",
    "#### Source: scraping assistance from: http://savvastjortjoglou.com/nfl-draft.html#Web-Scraping\n",
    "\n",
    "### Define scraping targets"
   ]
  },
  {
   "cell_type": "code",
   "execution_count": 2,
   "metadata": {
    "collapsed": false,
    "scrolled": true
   },
   "outputs": [
    {
     "data": {
      "text/plain": [
       "<tr><th class=\"right \" data-stat=\"draft_round\" scope=\"row\">1</th><td class=\"right \" csk=\"0.5\" data-stat=\"draft_pick\">1</td><td class=\"left \" csk=\"cle01\" data-stat=\"team\"><a href=\"/teams/cle/2018_draft.htm\" title=\"Cleveland Browns\">CLE</a></td><td class=\"left \" csk=\"Mayfield,Baker\" data-append-csv=\"MayfBa00\" data-stat=\"player\"><strong><a href=\"/players/M/MayfBa00.htm\">Baker Mayfield</a></strong></td><td class=\"left \" csk=\"QB--------0001\" data-stat=\"pos\">QB</td><td class=\"right \" data-stat=\"age\">23</td><td class=\"right \" data-stat=\"year_max\">2018</td><td class=\"right iz\" data-stat=\"all_pros_first_team\">0</td><td class=\"right iz\" data-stat=\"pro_bowls\">0</td><td class=\"right \" data-stat=\"years_as_primary_starter\">1</td><td class=\"right \" data-stat=\"career_av\">10</td><td class=\"right \" data-stat=\"draft_av\">10</td><td class=\"right \" data-stat=\"g\">14</td><td class=\"right \" data-stat=\"pass_cmp\">310</td><td class=\"right \" data-stat=\"pass_att\">486</td><td class=\"right \" data-stat=\"pass_yds\">3725</td><td class=\"right \" data-stat=\"pass_td\">27</td><td class=\"right \" data-stat=\"pass_int\">14</td><td class=\"right \" data-stat=\"rush_att\">39</td><td class=\"right \" data-stat=\"rush_yds\">131</td><td class=\"right iz\" data-stat=\"rush_td\">0</td><td class=\"right iz\" data-stat=\"rec\">0</td><td class=\"right iz\" data-stat=\"rec_yds\">0</td><td class=\"right iz\" data-stat=\"rec_td\">0</td><td class=\"right iz\" data-stat=\"tackles_solo\"></td><td class=\"right iz\" data-stat=\"def_int\"></td><td class=\"right iz\" data-stat=\"sacks\"></td><td class=\"left \" data-stat=\"college_id\"><a href=\"/schools/oklahoma/\">Oklahoma</a></td><td class=\"right \" data-stat=\"college_link\"><a href=\"http://www.sports-reference.com/cfb/players/baker-mayfield-1.html\">College Stats</a></td></tr>"
      ]
     },
     "execution_count": 2,
     "metadata": {},
     "output_type": "execute_result"
    }
   ],
   "source": [
    "# set the URL\n",
    "draft_2018 = \"https://www.pro-football-reference.com/years/2018/draft.htm\"\n",
    "\n",
    "# get html\n",
    "html = urlopen(draft_2018)\n",
    "\n",
    "# create the BeautifulSoup object\n",
    "soup = BeautifulSoup(html, \"lxml\")\n",
    "\n",
    "# Extract necessary values for the column headers from the table and store them as a list\n",
    "headers = [th.getText() for th in soup.findAll('tr', limit=2)[1].findAll('th')]\n",
    "\n",
    "# Add the two additional column headers for the player links\n",
    "headers.extend([\"Player_NFL_Link\", \"Player_NCAA_Link\"])\n",
    "\n",
    "# The data is found within the table rows of the element with id=draft\n",
    "# We want the elements from the 3rd row and on\n",
    "table_rows = soup.select(\"#drafts tr\")[2:] \n",
    "\n",
    "# take a look at the first row\n",
    "table_rows[0] "
   ]
  },
  {
   "cell_type": "markdown",
   "metadata": {},
   "source": [
    "### Scrape data"
   ]
  },
  {
   "cell_type": "code",
   "execution_count": 3,
   "metadata": {
    "collapsed": true,
    "scrolled": true
   },
   "outputs": [],
   "source": [
    "def extract_player_data(table_rows):\n",
    "    \"\"\"\n",
    "    Extract and return the the desired information from the td elements within the table rows.\n",
    "    \"\"\"\n",
    "    # create the empty list to store the player data\n",
    "    player_data = []\n",
    "    \n",
    "    for row in table_rows:  # for each row do the following\n",
    "\n",
    "        # Get the text for each table data (td) element in the row\n",
    "        # Some player names end with ' HOF'\n",
    "        # if they do, get the text excluding those last 4 characters,\n",
    "        # otherwise get all the text data from the table data\n",
    "        player_list = [td.get_text() for td in row.find_all(\"th\")]\n",
    "        player_list.extend([td.get_text() for td in row.find_all(\"td\")])\n",
    "\n",
    "        # there are some empty table rows, which are the repeated \n",
    "        # column headers in the table\n",
    "        # we skip over those rows and and continue the for loop\n",
    "        if not player_list:\n",
    "            continue\n",
    "\n",
    "        # Extracting the player links\n",
    "        # Instead of a list we create a dictionary, this way we can easily\n",
    "        # match the player name with their pfr url\n",
    "        # For all \"a\" elements in the row, get the text\n",
    "        # NOTE: Same \" HOF\" text issue as the player_list above\n",
    "        links_dict = {(link.get_text()[:-4]   # exclude the last 4 characters\n",
    "                       if link.get_text().endswith(\" HOF\")  # if they are \" HOF\"\n",
    "                       # else get all text, set thet as the dictionary key \n",
    "                       # and set the url as the value\n",
    "                       else link.get_text()) : link[\"href\"] \n",
    "                       for link in row.find_all(\"a\", href=True)}\n",
    "\n",
    "        # The data we want from the dictionary can be extracted using the\n",
    "        # player's name, which returns us their pfr url, and \"College Stats\"\n",
    "        # which returns us their college stats page\n",
    "    \n",
    "        # add the link associated to the player's pro-football-reference page, \n",
    "        # or en empty string if there is no link\n",
    "        player_list.append(links_dict.get(player_list[3], \"\"))\n",
    "\n",
    "        # add the link for the player's college stats or an empty string\n",
    "        # if ther is no link\n",
    "        player_list.append(links_dict.get(\"College Stats\", \"\"))\n",
    "\n",
    "        # Now append the data to list of data\n",
    "        player_data.append(player_list)\n",
    "        \n",
    "    return player_data\n",
    "\n",
    "# extract the data we want\n",
    "data = extract_player_data(table_rows)"
   ]
  },
  {
   "cell_type": "markdown",
   "metadata": {},
   "source": [
    "### Clean the data"
   ]
  },
  {
   "cell_type": "code",
   "execution_count": 4,
   "metadata": {
    "collapsed": false,
    "scrolled": true
   },
   "outputs": [
    {
     "data": {
      "text/plain": [
       "Index(['Rnd', 'Pick', 'Tm', 'Player', 'Pos', 'Age', 'To', 'AP1', 'PB', 'St',\n",
       "       'CarAV', 'DrAV', 'G', 'Cmp', 'Att', 'Yds', 'TD', 'Int', 'Att', 'Yds',\n",
       "       'TD', 'Rec', 'Yds', 'TD', 'Solo', 'Int', 'Sk', 'College/Univ', '',\n",
       "       'Player_NFL_Link', 'Player_NCAA_Link'],\n",
       "      dtype='object')"
      ]
     },
     "execution_count": 4,
     "metadata": {},
     "output_type": "execute_result"
    }
   ],
   "source": [
    "# store it in a DataFrame\n",
    "df_2018 = pd.DataFrame(data, columns=headers)\n",
    "df_2018.columns"
   ]
  },
  {
   "cell_type": "code",
   "execution_count": 5,
   "metadata": {
    "collapsed": false,
    "scrolled": true
   },
   "outputs": [
    {
     "data": {
      "text/html": [
       "<div>\n",
       "<style scoped>\n",
       "    .dataframe tbody tr th:only-of-type {\n",
       "        vertical-align: middle;\n",
       "    }\n",
       "\n",
       "    .dataframe tbody tr th {\n",
       "        vertical-align: top;\n",
       "    }\n",
       "\n",
       "    .dataframe thead th {\n",
       "        text-align: right;\n",
       "    }\n",
       "</style>\n",
       "<table border=\"1\" class=\"dataframe\">\n",
       "  <thead>\n",
       "    <tr style=\"text-align: right;\">\n",
       "      <th></th>\n",
       "      <th>Rnd</th>\n",
       "      <th>Pick</th>\n",
       "      <th>Tm</th>\n",
       "      <th>Player</th>\n",
       "      <th>Pos</th>\n",
       "      <th>College/Univ</th>\n",
       "    </tr>\n",
       "  </thead>\n",
       "  <tbody>\n",
       "    <tr>\n",
       "      <th>0</th>\n",
       "      <td>1</td>\n",
       "      <td>1</td>\n",
       "      <td>CLE</td>\n",
       "      <td>Baker Mayfield</td>\n",
       "      <td>QB</td>\n",
       "      <td>Oklahoma</td>\n",
       "    </tr>\n",
       "    <tr>\n",
       "      <th>1</th>\n",
       "      <td>1</td>\n",
       "      <td>2</td>\n",
       "      <td>NYG</td>\n",
       "      <td>Saquon Barkley</td>\n",
       "      <td>RB</td>\n",
       "      <td>Penn St.</td>\n",
       "    </tr>\n",
       "    <tr>\n",
       "      <th>2</th>\n",
       "      <td>1</td>\n",
       "      <td>3</td>\n",
       "      <td>NYJ</td>\n",
       "      <td>Sam Darnold</td>\n",
       "      <td>QB</td>\n",
       "      <td>USC</td>\n",
       "    </tr>\n",
       "    <tr>\n",
       "      <th>3</th>\n",
       "      <td>1</td>\n",
       "      <td>4</td>\n",
       "      <td>CLE</td>\n",
       "      <td>Denzel Ward</td>\n",
       "      <td>CB</td>\n",
       "      <td>Ohio St.</td>\n",
       "    </tr>\n",
       "    <tr>\n",
       "      <th>4</th>\n",
       "      <td>1</td>\n",
       "      <td>5</td>\n",
       "      <td>DEN</td>\n",
       "      <td>Bradley Chubb</td>\n",
       "      <td>DE</td>\n",
       "      <td>North Carolina St.</td>\n",
       "    </tr>\n",
       "  </tbody>\n",
       "</table>\n",
       "</div>"
      ],
      "text/plain": [
       "  Rnd Pick   Tm          Player Pos        College/Univ\n",
       "0   1    1  CLE  Baker Mayfield  QB            Oklahoma\n",
       "1   1    2  NYG  Saquon Barkley  RB            Penn St.\n",
       "2   1    3  NYJ     Sam Darnold  QB                 USC\n",
       "3   1    4  CLE     Denzel Ward  CB            Ohio St.\n",
       "4   1    5  DEN   Bradley Chubb  DE  North Carolina St."
      ]
     },
     "execution_count": 5,
     "metadata": {},
     "output_type": "execute_result"
    }
   ],
   "source": [
    "# keep only necessary columns\n",
    "df_2018 = df_2018[['Rnd','Pick','Tm','Player','Pos','College/Univ']]\n",
    "\n",
    "# explore data\n",
    "df_2018.head()"
   ]
  },
  {
   "cell_type": "code",
   "execution_count": 6,
   "metadata": {
    "collapsed": false,
    "scrolled": true
   },
   "outputs": [
    {
     "data": {
      "text/plain": [
       "Rnd             0\n",
       "Pick            0\n",
       "Tm              0\n",
       "Player          0\n",
       "Pos             0\n",
       "College/Univ    0\n",
       "dtype: int64"
      ]
     },
     "execution_count": 6,
     "metadata": {},
     "output_type": "execute_result"
    }
   ],
   "source": [
    "df_2018.isna().sum()\n",
    "# it looks like there are no missing values - a good sign"
   ]
  },
  {
   "cell_type": "code",
   "execution_count": 7,
   "metadata": {
    "collapsed": false,
    "scrolled": true
   },
   "outputs": [
    {
     "data": {
      "text/html": [
       "<div>\n",
       "<style scoped>\n",
       "    .dataframe tbody tr th:only-of-type {\n",
       "        vertical-align: middle;\n",
       "    }\n",
       "\n",
       "    .dataframe tbody tr th {\n",
       "        vertical-align: top;\n",
       "    }\n",
       "\n",
       "    .dataframe thead th {\n",
       "        text-align: right;\n",
       "    }\n",
       "</style>\n",
       "<table border=\"1\" class=\"dataframe\">\n",
       "  <thead>\n",
       "    <tr style=\"text-align: right;\">\n",
       "      <th></th>\n",
       "      <th>Rnd</th>\n",
       "      <th>Pick</th>\n",
       "      <th>Tm</th>\n",
       "      <th>Player</th>\n",
       "      <th>Pos</th>\n",
       "      <th>College/Univ</th>\n",
       "    </tr>\n",
       "  </thead>\n",
       "  <tbody>\n",
       "    <tr>\n",
       "      <th>count</th>\n",
       "      <td>262</td>\n",
       "      <td>262</td>\n",
       "      <td>262</td>\n",
       "      <td>262</td>\n",
       "      <td>262</td>\n",
       "      <td>262</td>\n",
       "    </tr>\n",
       "    <tr>\n",
       "      <th>unique</th>\n",
       "      <td>8</td>\n",
       "      <td>257</td>\n",
       "      <td>33</td>\n",
       "      <td>257</td>\n",
       "      <td>18</td>\n",
       "      <td>113</td>\n",
       "    </tr>\n",
       "    <tr>\n",
       "      <th>top</th>\n",
       "      <td>6</td>\n",
       "      <td>Pick</td>\n",
       "      <td>BAL</td>\n",
       "      <td>Player</td>\n",
       "      <td>WR</td>\n",
       "      <td>Alabama</td>\n",
       "    </tr>\n",
       "    <tr>\n",
       "      <th>freq</th>\n",
       "      <td>44</td>\n",
       "      <td>6</td>\n",
       "      <td>12</td>\n",
       "      <td>6</td>\n",
       "      <td>34</td>\n",
       "      <td>12</td>\n",
       "    </tr>\n",
       "  </tbody>\n",
       "</table>\n",
       "</div>"
      ],
      "text/plain": [
       "        Rnd  Pick   Tm  Player  Pos College/Univ\n",
       "count   262   262  262     262  262          262\n",
       "unique    8   257   33     257   18          113\n",
       "top       6  Pick  BAL  Player   WR      Alabama\n",
       "freq     44     6   12       6   34           12"
      ]
     },
     "execution_count": 7,
     "metadata": {},
     "output_type": "execute_result"
    }
   ],
   "source": [
    "df_2018.describe()\n",
    "# there are only 257 (out of 262) unique names and the most common name is 'Player' \n",
    "# is this a data issue?\n",
    "# also, with 32 teams and 7 rounds we should have 224 total picks, but there are 256 in this dataset"
   ]
  },
  {
   "cell_type": "code",
   "execution_count": 8,
   "metadata": {
    "collapsed": false,
    "scrolled": true
   },
   "outputs": [
    {
     "data": {
      "text/html": [
       "<div>\n",
       "<style scoped>\n",
       "    .dataframe tbody tr th:only-of-type {\n",
       "        vertical-align: middle;\n",
       "    }\n",
       "\n",
       "    .dataframe tbody tr th {\n",
       "        vertical-align: top;\n",
       "    }\n",
       "\n",
       "    .dataframe thead th {\n",
       "        text-align: right;\n",
       "    }\n",
       "</style>\n",
       "<table border=\"1\" class=\"dataframe\">\n",
       "  <thead>\n",
       "    <tr style=\"text-align: right;\">\n",
       "      <th></th>\n",
       "      <th>Rnd</th>\n",
       "      <th>Pick</th>\n",
       "      <th>Tm</th>\n",
       "      <th>Player</th>\n",
       "      <th>Pos</th>\n",
       "      <th>College/Univ</th>\n",
       "    </tr>\n",
       "  </thead>\n",
       "  <tbody>\n",
       "    <tr>\n",
       "      <th>32</th>\n",
       "      <td>Rnd</td>\n",
       "      <td>Pick</td>\n",
       "      <td>Tm</td>\n",
       "      <td>Player</td>\n",
       "      <td>Pos</td>\n",
       "      <td>College/Univ</td>\n",
       "    </tr>\n",
       "    <tr>\n",
       "      <th>65</th>\n",
       "      <td>Rnd</td>\n",
       "      <td>Pick</td>\n",
       "      <td>Tm</td>\n",
       "      <td>Player</td>\n",
       "      <td>Pos</td>\n",
       "      <td>College/Univ</td>\n",
       "    </tr>\n",
       "    <tr>\n",
       "      <th>102</th>\n",
       "      <td>Rnd</td>\n",
       "      <td>Pick</td>\n",
       "      <td>Tm</td>\n",
       "      <td>Player</td>\n",
       "      <td>Pos</td>\n",
       "      <td>College/Univ</td>\n",
       "    </tr>\n",
       "    <tr>\n",
       "      <th>140</th>\n",
       "      <td>Rnd</td>\n",
       "      <td>Pick</td>\n",
       "      <td>Tm</td>\n",
       "      <td>Player</td>\n",
       "      <td>Pos</td>\n",
       "      <td>College/Univ</td>\n",
       "    </tr>\n",
       "    <tr>\n",
       "      <th>178</th>\n",
       "      <td>Rnd</td>\n",
       "      <td>Pick</td>\n",
       "      <td>Tm</td>\n",
       "      <td>Player</td>\n",
       "      <td>Pos</td>\n",
       "      <td>College/Univ</td>\n",
       "    </tr>\n",
       "    <tr>\n",
       "      <th>223</th>\n",
       "      <td>Rnd</td>\n",
       "      <td>Pick</td>\n",
       "      <td>Tm</td>\n",
       "      <td>Player</td>\n",
       "      <td>Pos</td>\n",
       "      <td>College/Univ</td>\n",
       "    </tr>\n",
       "  </tbody>\n",
       "</table>\n",
       "</div>"
      ],
      "text/plain": [
       "     Rnd  Pick  Tm  Player  Pos  College/Univ\n",
       "32   Rnd  Pick  Tm  Player  Pos  College/Univ\n",
       "65   Rnd  Pick  Tm  Player  Pos  College/Univ\n",
       "102  Rnd  Pick  Tm  Player  Pos  College/Univ\n",
       "140  Rnd  Pick  Tm  Player  Pos  College/Univ\n",
       "178  Rnd  Pick  Tm  Player  Pos  College/Univ\n",
       "223  Rnd  Pick  Tm  Player  Pos  College/Univ"
      ]
     },
     "execution_count": 8,
     "metadata": {},
     "output_type": "execute_result"
    }
   ],
   "source": [
    "# let's dig further into these issues\n",
    "\n",
    "# first, why are we seeing players named 'Player'?\n",
    "df_2018[df_2018.Player == 'Player']\n",
    "# it looks like the page we scraped included the table headers multiple times throughout the dataset"
   ]
  },
  {
   "cell_type": "code",
   "execution_count": 9,
   "metadata": {
    "collapsed": false,
    "scrolled": true
   },
   "outputs": [
    {
     "data": {
      "text/html": [
       "<div>\n",
       "<style scoped>\n",
       "    .dataframe tbody tr th:only-of-type {\n",
       "        vertical-align: middle;\n",
       "    }\n",
       "\n",
       "    .dataframe tbody tr th {\n",
       "        vertical-align: top;\n",
       "    }\n",
       "\n",
       "    .dataframe thead th {\n",
       "        text-align: right;\n",
       "    }\n",
       "</style>\n",
       "<table border=\"1\" class=\"dataframe\">\n",
       "  <thead>\n",
       "    <tr style=\"text-align: right;\">\n",
       "      <th></th>\n",
       "      <th>Rnd</th>\n",
       "      <th>Pick</th>\n",
       "      <th>Tm</th>\n",
       "      <th>Player</th>\n",
       "      <th>Pos</th>\n",
       "      <th>College/Univ</th>\n",
       "    </tr>\n",
       "  </thead>\n",
       "  <tbody>\n",
       "  </tbody>\n",
       "</table>\n",
       "</div>"
      ],
      "text/plain": [
       "Empty DataFrame\n",
       "Columns: [Rnd, Pick, Tm, Player, Pos, College/Univ]\n",
       "Index: []"
      ]
     },
     "execution_count": 9,
     "metadata": {},
     "output_type": "execute_result"
    }
   ],
   "source": [
    "# rows 32, 65, 102, 140, 178, and 223 contain header descriptions instead of actual observations \n",
    "# we need to remove these rows\n",
    "df_2018=df_2018[(df_2018.Player!='Player')]\n",
    "\n",
    "# and to double check our fix\n",
    "df_2018[df_2018.Player=='Player']"
   ]
  },
  {
   "cell_type": "code",
   "execution_count": 10,
   "metadata": {
    "collapsed": false,
    "scrolled": true
   },
   "outputs": [
    {
     "data": {
      "text/html": [
       "<div>\n",
       "<style scoped>\n",
       "    .dataframe tbody tr th:only-of-type {\n",
       "        vertical-align: middle;\n",
       "    }\n",
       "\n",
       "    .dataframe tbody tr th {\n",
       "        vertical-align: top;\n",
       "    }\n",
       "\n",
       "    .dataframe thead th {\n",
       "        text-align: right;\n",
       "    }\n",
       "</style>\n",
       "<table border=\"1\" class=\"dataframe\">\n",
       "  <thead>\n",
       "    <tr style=\"text-align: right;\">\n",
       "      <th></th>\n",
       "      <th>Rnd</th>\n",
       "      <th>Pick</th>\n",
       "      <th>Tm</th>\n",
       "      <th>Player</th>\n",
       "      <th>Pos</th>\n",
       "      <th>College/Univ</th>\n",
       "    </tr>\n",
       "  </thead>\n",
       "  <tbody>\n",
       "    <tr>\n",
       "      <th>count</th>\n",
       "      <td>256</td>\n",
       "      <td>256</td>\n",
       "      <td>256</td>\n",
       "      <td>256</td>\n",
       "      <td>256</td>\n",
       "      <td>256</td>\n",
       "    </tr>\n",
       "    <tr>\n",
       "      <th>unique</th>\n",
       "      <td>7</td>\n",
       "      <td>256</td>\n",
       "      <td>32</td>\n",
       "      <td>256</td>\n",
       "      <td>17</td>\n",
       "      <td>112</td>\n",
       "    </tr>\n",
       "    <tr>\n",
       "      <th>top</th>\n",
       "      <td>6</td>\n",
       "      <td>45</td>\n",
       "      <td>BAL</td>\n",
       "      <td>Jordan Wilkins</td>\n",
       "      <td>WR</td>\n",
       "      <td>Alabama</td>\n",
       "    </tr>\n",
       "    <tr>\n",
       "      <th>freq</th>\n",
       "      <td>44</td>\n",
       "      <td>1</td>\n",
       "      <td>12</td>\n",
       "      <td>1</td>\n",
       "      <td>34</td>\n",
       "      <td>12</td>\n",
       "    </tr>\n",
       "  </tbody>\n",
       "</table>\n",
       "</div>"
      ],
      "text/plain": [
       "        Rnd Pick   Tm          Player  Pos College/Univ\n",
       "count   256  256  256             256  256          256\n",
       "unique    7  256   32             256   17          112\n",
       "top       6   45  BAL  Jordan Wilkins   WR      Alabama\n",
       "freq     44    1   12               1   34           12"
      ]
     },
     "execution_count": 10,
     "metadata": {},
     "output_type": "execute_result"
    }
   ],
   "source": [
    "df_2018.describe()\n",
    "# that looks better - we now have 256 unique names"
   ]
  },
  {
   "cell_type": "code",
   "execution_count": 11,
   "metadata": {
    "collapsed": false,
    "scrolled": true
   },
   "outputs": [
    {
     "name": "stdout",
     "output_type": "stream",
     "text": [
      "col_0  count\n",
      "Rnd         \n",
      "1         32\n",
      "2         32\n",
      "3         36\n",
      "4         37\n",
      "5         37\n",
      "6         44\n",
      "7         38\n"
     ]
    }
   ],
   "source": [
    "# now let's investigate the count of 256 draft picks\n",
    "tabs=['Rnd']\n",
    "for column in tabs:\n",
    "    tab = pd.crosstab(index=df_2018[column],  # Make a crosstab\n",
    "                              columns=\"count\")      # Name the count column\n",
    "    print(tab)\n",
    "\n",
    "# apparently there are 32 picks in the first two rounds but later rounds have 36 - 44 picks\n",
    "# this is verified by a quick Google search"
   ]
  },
  {
   "cell_type": "markdown",
   "metadata": {},
   "source": [
    "## 2) Collect Wikipedia page views for each drafted player using the mwviews API\n",
    "\n",
    "### Collect data"
   ]
  },
  {
   "cell_type": "code",
   "execution_count": 12,
   "metadata": {
    "collapsed": false,
    "scrolled": true
   },
   "outputs": [],
   "source": [
    "# sends a descriptive User-Agent header with every request\n",
    "p = PageviewsClient(user_agent=\"<ene> NFL draft analysis\")\n",
    "\n",
    "# later in the program an error occurs as ProFootballReference and Wikipedia handle initials inconsistently\n",
    "# Wiki also defaults to former player and CBS analyst Marcus Allen so we need to redirect to the 2018 drafted Marcus Allen\n",
    "# let's manually correct this issue before we get to it\n",
    "name_correction = {'M.J. Stewart':'M. J. Stewart',\n",
    "                   'P.J. Hall':'P. J. Hall',\n",
    "                   'R.J. McIntosh':'R. J. McIntosh',\n",
    "                   'Marcus Allen':'Marcus Allen (safety)'\n",
    "                  }\n",
    "df_2018 = df_2018.replace(name_correction)"
   ]
  },
  {
   "cell_type": "code",
   "execution_count": 13,
   "metadata": {
    "collapsed": false,
    "scrolled": true
   },
   "outputs": [
    {
     "data": {
      "text/html": [
       "<div>\n",
       "<style scoped>\n",
       "    .dataframe tbody tr th:only-of-type {\n",
       "        vertical-align: middle;\n",
       "    }\n",
       "\n",
       "    .dataframe tbody tr th {\n",
       "        vertical-align: top;\n",
       "    }\n",
       "\n",
       "    .dataframe thead th {\n",
       "        text-align: right;\n",
       "    }\n",
       "</style>\n",
       "<table border=\"1\" class=\"dataframe\">\n",
       "  <thead>\n",
       "    <tr style=\"text-align: right;\">\n",
       "      <th></th>\n",
       "      <th>2018-01-01 00:00:00</th>\n",
       "      <th>2018-01-02 00:00:00</th>\n",
       "      <th>2018-01-03 00:00:00</th>\n",
       "      <th>2018-01-04 00:00:00</th>\n",
       "      <th>2018-01-05 00:00:00</th>\n",
       "      <th>2018-01-06 00:00:00</th>\n",
       "      <th>2018-01-07 00:00:00</th>\n",
       "      <th>2018-01-08 00:00:00</th>\n",
       "      <th>2018-01-09 00:00:00</th>\n",
       "      <th>2018-01-10 00:00:00</th>\n",
       "      <th>...</th>\n",
       "      <th>2018-12-22 00:00:00</th>\n",
       "      <th>2018-12-23 00:00:00</th>\n",
       "      <th>2018-12-24 00:00:00</th>\n",
       "      <th>2018-12-25 00:00:00</th>\n",
       "      <th>2018-12-26 00:00:00</th>\n",
       "      <th>2018-12-27 00:00:00</th>\n",
       "      <th>2018-12-28 00:00:00</th>\n",
       "      <th>2018-12-29 00:00:00</th>\n",
       "      <th>2018-12-30 00:00:00</th>\n",
       "      <th>2018-12-31 00:00:00</th>\n",
       "    </tr>\n",
       "  </thead>\n",
       "  <tbody>\n",
       "  </tbody>\n",
       "</table>\n",
       "<p>0 rows × 365 columns</p>\n",
       "</div>"
      ],
      "text/plain": [
       "Empty DataFrame\n",
       "Columns: [2018-01-01 00:00:00, 2018-01-02 00:00:00, 2018-01-03 00:00:00, 2018-01-04 00:00:00, 2018-01-05 00:00:00, 2018-01-06 00:00:00, 2018-01-07 00:00:00, 2018-01-08 00:00:00, 2018-01-09 00:00:00, 2018-01-10 00:00:00, 2018-01-11 00:00:00, 2018-01-12 00:00:00, 2018-01-13 00:00:00, 2018-01-14 00:00:00, 2018-01-15 00:00:00, 2018-01-16 00:00:00, 2018-01-17 00:00:00, 2018-01-18 00:00:00, 2018-01-19 00:00:00, 2018-01-20 00:00:00, 2018-01-21 00:00:00, 2018-01-22 00:00:00, 2018-01-23 00:00:00, 2018-01-24 00:00:00, 2018-01-25 00:00:00, 2018-01-26 00:00:00, 2018-01-27 00:00:00, 2018-01-28 00:00:00, 2018-01-29 00:00:00, 2018-01-30 00:00:00, 2018-01-31 00:00:00, 2018-02-01 00:00:00, 2018-02-02 00:00:00, 2018-02-03 00:00:00, 2018-02-04 00:00:00, 2018-02-05 00:00:00, 2018-02-06 00:00:00, 2018-02-07 00:00:00, 2018-02-08 00:00:00, 2018-02-09 00:00:00, 2018-02-10 00:00:00, 2018-02-11 00:00:00, 2018-02-12 00:00:00, 2018-02-13 00:00:00, 2018-02-14 00:00:00, 2018-02-15 00:00:00, 2018-02-16 00:00:00, 2018-02-17 00:00:00, 2018-02-18 00:00:00, 2018-02-19 00:00:00, 2018-02-20 00:00:00, 2018-02-21 00:00:00, 2018-02-22 00:00:00, 2018-02-23 00:00:00, 2018-02-24 00:00:00, 2018-02-25 00:00:00, 2018-02-26 00:00:00, 2018-02-27 00:00:00, 2018-02-28 00:00:00, 2018-03-01 00:00:00, 2018-03-02 00:00:00, 2018-03-03 00:00:00, 2018-03-04 00:00:00, 2018-03-05 00:00:00, 2018-03-06 00:00:00, 2018-03-07 00:00:00, 2018-03-08 00:00:00, 2018-03-09 00:00:00, 2018-03-10 00:00:00, 2018-03-11 00:00:00, 2018-03-12 00:00:00, 2018-03-13 00:00:00, 2018-03-14 00:00:00, 2018-03-15 00:00:00, 2018-03-16 00:00:00, 2018-03-17 00:00:00, 2018-03-18 00:00:00, 2018-03-19 00:00:00, 2018-03-20 00:00:00, 2018-03-21 00:00:00, 2018-03-22 00:00:00, 2018-03-23 00:00:00, 2018-03-24 00:00:00, 2018-03-25 00:00:00, 2018-03-26 00:00:00, 2018-03-27 00:00:00, 2018-03-28 00:00:00, 2018-03-29 00:00:00, 2018-03-30 00:00:00, 2018-03-31 00:00:00, 2018-04-01 00:00:00, 2018-04-02 00:00:00, 2018-04-03 00:00:00, 2018-04-04 00:00:00, 2018-04-05 00:00:00, 2018-04-06 00:00:00, 2018-04-07 00:00:00, 2018-04-08 00:00:00, 2018-04-09 00:00:00, 2018-04-10 00:00:00, ...]\n",
       "Index: []\n",
       "\n",
       "[0 rows x 365 columns]"
      ]
     },
     "execution_count": 13,
     "metadata": {},
     "output_type": "execute_result"
    }
   ],
   "source": [
    "# 2018 NFL draft took place from April 26 to April 28\n",
    "# we will collect more data than needed at beginning to allow for flexibility later on\n",
    "\n",
    "# build dataframe format\n",
    "wiki_views = pd.DataFrame.from_dict(p.article_views\n",
    "                                    ('en.wikipedia', \n",
    "                                     df_2018.at[0,'Player'], \n",
    "                                     granularity='daily', \n",
    "                                     start='20180101', \n",
    "                                     end='20181231'\n",
    "                                    ))\n",
    "\n",
    "# remove data so that we a shell with the format we want\n",
    "wiki_views = wiki_views[0:0]\n",
    "wiki_views.head()"
   ]
  },
  {
   "cell_type": "code",
   "execution_count": 14,
   "metadata": {
    "collapsed": false,
    "scrolled": true
   },
   "outputs": [],
   "source": [
    "# populate table with wikipedia stats for every drafted player\n",
    "for i in df_2018.index:\n",
    "    wiki_views = wiki_views.append(pd.DataFrame.from_dict\n",
    "                                    (p.article_views\n",
    "                                     ('en.wikipedia', \n",
    "                                      df_2018.at[i,'Player'], \n",
    "                                      granularity='daily', \n",
    "                                      start='20180101', \n",
    "                                      end='20181231'\n",
    "                                     )))"
   ]
  },
  {
   "cell_type": "markdown",
   "metadata": {},
   "source": [
    "### Clean the data"
   ]
  },
  {
   "cell_type": "code",
   "execution_count": 15,
   "metadata": {
    "collapsed": false,
    "scrolled": true
   },
   "outputs": [
    {
     "data": {
      "text/html": [
       "<div>\n",
       "<style scoped>\n",
       "    .dataframe tbody tr th:only-of-type {\n",
       "        vertical-align: middle;\n",
       "    }\n",
       "\n",
       "    .dataframe tbody tr th {\n",
       "        vertical-align: top;\n",
       "    }\n",
       "\n",
       "    .dataframe thead th {\n",
       "        text-align: right;\n",
       "    }\n",
       "</style>\n",
       "<table border=\"1\" class=\"dataframe\">\n",
       "  <thead>\n",
       "    <tr style=\"text-align: right;\">\n",
       "      <th></th>\n",
       "      <th>2018-01-01 00:00:00</th>\n",
       "      <th>2018-01-02 00:00:00</th>\n",
       "      <th>2018-01-03 00:00:00</th>\n",
       "      <th>2018-01-04 00:00:00</th>\n",
       "      <th>2018-01-05 00:00:00</th>\n",
       "      <th>2018-01-06 00:00:00</th>\n",
       "      <th>2018-01-07 00:00:00</th>\n",
       "      <th>2018-01-08 00:00:00</th>\n",
       "      <th>2018-01-09 00:00:00</th>\n",
       "      <th>2018-01-10 00:00:00</th>\n",
       "      <th>...</th>\n",
       "      <th>2018-12-23 00:00:00</th>\n",
       "      <th>2018-12-24 00:00:00</th>\n",
       "      <th>2018-12-25 00:00:00</th>\n",
       "      <th>2018-12-26 00:00:00</th>\n",
       "      <th>2018-12-27 00:00:00</th>\n",
       "      <th>2018-12-28 00:00:00</th>\n",
       "      <th>2018-12-29 00:00:00</th>\n",
       "      <th>2018-12-30 00:00:00</th>\n",
       "      <th>2018-12-31 00:00:00</th>\n",
       "      <th>Player</th>\n",
       "    </tr>\n",
       "  </thead>\n",
       "  <tbody>\n",
       "    <tr>\n",
       "      <th>Baker_Mayfield</th>\n",
       "      <td>114799</td>\n",
       "      <td>217002</td>\n",
       "      <td>23490</td>\n",
       "      <td>12327</td>\n",
       "      <td>12433</td>\n",
       "      <td>7905</td>\n",
       "      <td>7200</td>\n",
       "      <td>5813</td>\n",
       "      <td>9517</td>\n",
       "      <td>4773</td>\n",
       "      <td>...</td>\n",
       "      <td>13777</td>\n",
       "      <td>16978</td>\n",
       "      <td>7636</td>\n",
       "      <td>6404</td>\n",
       "      <td>8799</td>\n",
       "      <td>7344</td>\n",
       "      <td>8333</td>\n",
       "      <td>26923</td>\n",
       "      <td>31812</td>\n",
       "      <td>Baker_Mayfield</td>\n",
       "    </tr>\n",
       "    <tr>\n",
       "      <th>Saquon_Barkley</th>\n",
       "      <td>12665</td>\n",
       "      <td>6743</td>\n",
       "      <td>4279</td>\n",
       "      <td>4054</td>\n",
       "      <td>3031</td>\n",
       "      <td>2526</td>\n",
       "      <td>2494</td>\n",
       "      <td>1906</td>\n",
       "      <td>2270</td>\n",
       "      <td>1470</td>\n",
       "      <td>...</td>\n",
       "      <td>4051</td>\n",
       "      <td>2611</td>\n",
       "      <td>1895</td>\n",
       "      <td>1630</td>\n",
       "      <td>1683</td>\n",
       "      <td>1776</td>\n",
       "      <td>1733</td>\n",
       "      <td>15988</td>\n",
       "      <td>7439</td>\n",
       "      <td>Saquon_Barkley</td>\n",
       "    </tr>\n",
       "    <tr>\n",
       "      <th>Sam_Darnold</th>\n",
       "      <td>2344</td>\n",
       "      <td>3239</td>\n",
       "      <td>1723</td>\n",
       "      <td>11829</td>\n",
       "      <td>4066</td>\n",
       "      <td>1808</td>\n",
       "      <td>1908</td>\n",
       "      <td>1426</td>\n",
       "      <td>1799</td>\n",
       "      <td>1136</td>\n",
       "      <td>...</td>\n",
       "      <td>4134</td>\n",
       "      <td>2434</td>\n",
       "      <td>1436</td>\n",
       "      <td>1162</td>\n",
       "      <td>1191</td>\n",
       "      <td>1123</td>\n",
       "      <td>1207</td>\n",
       "      <td>7104</td>\n",
       "      <td>3019</td>\n",
       "      <td>Sam_Darnold</td>\n",
       "    </tr>\n",
       "    <tr>\n",
       "      <th>Denzel_Ward</th>\n",
       "      <td>242</td>\n",
       "      <td>257</td>\n",
       "      <td>188</td>\n",
       "      <td>207</td>\n",
       "      <td>191</td>\n",
       "      <td>153</td>\n",
       "      <td>108</td>\n",
       "      <td>171</td>\n",
       "      <td>152</td>\n",
       "      <td>136</td>\n",
       "      <td>...</td>\n",
       "      <td>1357</td>\n",
       "      <td>1230</td>\n",
       "      <td>777</td>\n",
       "      <td>638</td>\n",
       "      <td>660</td>\n",
       "      <td>725</td>\n",
       "      <td>656</td>\n",
       "      <td>938</td>\n",
       "      <td>1266</td>\n",
       "      <td>Denzel_Ward</td>\n",
       "    </tr>\n",
       "    <tr>\n",
       "      <th>Bradley_Chubb</th>\n",
       "      <td>1732</td>\n",
       "      <td>3342</td>\n",
       "      <td>768</td>\n",
       "      <td>738</td>\n",
       "      <td>527</td>\n",
       "      <td>473</td>\n",
       "      <td>454</td>\n",
       "      <td>646</td>\n",
       "      <td>1737</td>\n",
       "      <td>517</td>\n",
       "      <td>...</td>\n",
       "      <td>949</td>\n",
       "      <td>933</td>\n",
       "      <td>2369</td>\n",
       "      <td>654</td>\n",
       "      <td>786</td>\n",
       "      <td>697</td>\n",
       "      <td>526</td>\n",
       "      <td>862</td>\n",
       "      <td>1221</td>\n",
       "      <td>Bradley_Chubb</td>\n",
       "    </tr>\n",
       "  </tbody>\n",
       "</table>\n",
       "<p>5 rows × 366 columns</p>\n",
       "</div>"
      ],
      "text/plain": [
       "               2018-01-01 00:00:00 2018-01-02 00:00:00 2018-01-03 00:00:00  \\\n",
       "Baker_Mayfield              114799              217002               23490   \n",
       "Saquon_Barkley               12665                6743                4279   \n",
       "Sam_Darnold                   2344                3239                1723   \n",
       "Denzel_Ward                    242                 257                 188   \n",
       "Bradley_Chubb                 1732                3342                 768   \n",
       "\n",
       "               2018-01-04 00:00:00 2018-01-05 00:00:00 2018-01-06 00:00:00  \\\n",
       "Baker_Mayfield               12327               12433                7905   \n",
       "Saquon_Barkley                4054                3031                2526   \n",
       "Sam_Darnold                  11829                4066                1808   \n",
       "Denzel_Ward                    207                 191                 153   \n",
       "Bradley_Chubb                  738                 527                 473   \n",
       "\n",
       "               2018-01-07 00:00:00 2018-01-08 00:00:00 2018-01-09 00:00:00  \\\n",
       "Baker_Mayfield                7200                5813                9517   \n",
       "Saquon_Barkley                2494                1906                2270   \n",
       "Sam_Darnold                   1908                1426                1799   \n",
       "Denzel_Ward                    108                 171                 152   \n",
       "Bradley_Chubb                  454                 646                1737   \n",
       "\n",
       "               2018-01-10 00:00:00       ...       2018-12-23 00:00:00  \\\n",
       "Baker_Mayfield                4773       ...                     13777   \n",
       "Saquon_Barkley                1470       ...                      4051   \n",
       "Sam_Darnold                   1136       ...                      4134   \n",
       "Denzel_Ward                    136       ...                      1357   \n",
       "Bradley_Chubb                  517       ...                       949   \n",
       "\n",
       "               2018-12-24 00:00:00 2018-12-25 00:00:00 2018-12-26 00:00:00  \\\n",
       "Baker_Mayfield               16978                7636                6404   \n",
       "Saquon_Barkley                2611                1895                1630   \n",
       "Sam_Darnold                   2434                1436                1162   \n",
       "Denzel_Ward                   1230                 777                 638   \n",
       "Bradley_Chubb                  933                2369                 654   \n",
       "\n",
       "               2018-12-27 00:00:00 2018-12-28 00:00:00 2018-12-29 00:00:00  \\\n",
       "Baker_Mayfield                8799                7344                8333   \n",
       "Saquon_Barkley                1683                1776                1733   \n",
       "Sam_Darnold                   1191                1123                1207   \n",
       "Denzel_Ward                    660                 725                 656   \n",
       "Bradley_Chubb                  786                 697                 526   \n",
       "\n",
       "               2018-12-30 00:00:00 2018-12-31 00:00:00          Player  \n",
       "Baker_Mayfield               26923               31812  Baker_Mayfield  \n",
       "Saquon_Barkley               15988                7439  Saquon_Barkley  \n",
       "Sam_Darnold                   7104                3019     Sam_Darnold  \n",
       "Denzel_Ward                    938                1266     Denzel_Ward  \n",
       "Bradley_Chubb                  862                1221   Bradley_Chubb  \n",
       "\n",
       "[5 rows x 366 columns]"
      ]
     },
     "execution_count": 15,
     "metadata": {},
     "output_type": "execute_result"
    }
   ],
   "source": [
    "# set column name for players\n",
    "wiki_views['Player'] = wiki_views.index\n",
    "wiki_views.head()"
   ]
  },
  {
   "cell_type": "code",
   "execution_count": 16,
   "metadata": {
    "collapsed": false,
    "scrolled": true
   },
   "outputs": [
    {
     "data": {
      "text/html": [
       "<div>\n",
       "<style scoped>\n",
       "    .dataframe tbody tr th:only-of-type {\n",
       "        vertical-align: middle;\n",
       "    }\n",
       "\n",
       "    .dataframe tbody tr th {\n",
       "        vertical-align: top;\n",
       "    }\n",
       "\n",
       "    .dataframe thead th {\n",
       "        text-align: right;\n",
       "    }\n",
       "</style>\n",
       "<table border=\"1\" class=\"dataframe\">\n",
       "  <thead>\n",
       "    <tr style=\"text-align: right;\">\n",
       "      <th></th>\n",
       "      <th>Player</th>\n",
       "      <th>Date</th>\n",
       "      <th>Views</th>\n",
       "    </tr>\n",
       "  </thead>\n",
       "  <tbody>\n",
       "    <tr>\n",
       "      <th>0</th>\n",
       "      <td>Baker_Mayfield</td>\n",
       "      <td>2018-01-01</td>\n",
       "      <td>114799</td>\n",
       "    </tr>\n",
       "    <tr>\n",
       "      <th>1</th>\n",
       "      <td>Saquon_Barkley</td>\n",
       "      <td>2018-01-01</td>\n",
       "      <td>12665</td>\n",
       "    </tr>\n",
       "    <tr>\n",
       "      <th>2</th>\n",
       "      <td>Sam_Darnold</td>\n",
       "      <td>2018-01-01</td>\n",
       "      <td>2344</td>\n",
       "    </tr>\n",
       "    <tr>\n",
       "      <th>3</th>\n",
       "      <td>Denzel_Ward</td>\n",
       "      <td>2018-01-01</td>\n",
       "      <td>242</td>\n",
       "    </tr>\n",
       "    <tr>\n",
       "      <th>4</th>\n",
       "      <td>Bradley_Chubb</td>\n",
       "      <td>2018-01-01</td>\n",
       "      <td>1732</td>\n",
       "    </tr>\n",
       "  </tbody>\n",
       "</table>\n",
       "</div>"
      ],
      "text/plain": [
       "           Player       Date   Views\n",
       "0  Baker_Mayfield 2018-01-01  114799\n",
       "1  Saquon_Barkley 2018-01-01   12665\n",
       "2     Sam_Darnold 2018-01-01    2344\n",
       "3     Denzel_Ward 2018-01-01     242\n",
       "4   Bradley_Chubb 2018-01-01    1732"
      ]
     },
     "execution_count": 16,
     "metadata": {},
     "output_type": "execute_result"
    }
   ],
   "source": [
    "# pivot our df so that date is a column\n",
    "wiki_views = pd.melt(wiki_views, id_vars=[\"Player\"],var_name=\"Date\", value_name=\"Views\")\n",
    "wiki_views.head()"
   ]
  },
  {
   "cell_type": "code",
   "execution_count": 17,
   "metadata": {
    "collapsed": true,
    "scrolled": true
   },
   "outputs": [],
   "source": [
    "# remove underscore that wikipedia enters into player names \n",
    "# this ensures we can join to draft data later on using player name \n",
    "wiki_views = wiki_views.replace('_', ' ', regex=True)"
   ]
  },
  {
   "cell_type": "code",
   "execution_count": 18,
   "metadata": {
    "collapsed": false,
    "scrolled": true
   },
   "outputs": [
    {
     "data": {
      "text/plain": [
       "Player        0\n",
       "Date          0\n",
       "Views     13976\n",
       "dtype: int64"
      ]
     },
     "execution_count": 18,
     "metadata": {},
     "output_type": "execute_result"
    }
   ],
   "source": [
    "# explore data\n",
    "\n",
    "# check for NAs \n",
    "wiki_views.isna().sum()\n",
    "# the player and date fields are complete, but we have 13,976 instances where there were no views\n",
    "# we need to replace these NAs with 0s"
   ]
  },
  {
   "cell_type": "code",
   "execution_count": 19,
   "metadata": {
    "collapsed": false,
    "scrolled": true
   },
   "outputs": [],
   "source": [
    "# replace NAs with 0s \n",
    "wiki_views=wiki_views.fillna(0)"
   ]
  },
  {
   "cell_type": "code",
   "execution_count": 20,
   "metadata": {
    "collapsed": false,
    "scrolled": true
   },
   "outputs": [
    {
     "data": {
      "text/plain": [
       "Player    0\n",
       "Date      0\n",
       "Views     0\n",
       "dtype: int64"
      ]
     },
     "execution_count": 20,
     "metadata": {},
     "output_type": "execute_result"
    }
   ],
   "source": [
    "# double check our fix\n",
    "wiki_views.isna().sum()"
   ]
  },
  {
   "cell_type": "code",
   "execution_count": 21,
   "metadata": {
    "collapsed": false,
    "scrolled": true
   },
   "outputs": [
    {
     "data": {
      "text/html": [
       "<div>\n",
       "<style scoped>\n",
       "    .dataframe tbody tr th:only-of-type {\n",
       "        vertical-align: middle;\n",
       "    }\n",
       "\n",
       "    .dataframe tbody tr th {\n",
       "        vertical-align: top;\n",
       "    }\n",
       "\n",
       "    .dataframe thead th {\n",
       "        text-align: right;\n",
       "    }\n",
       "</style>\n",
       "<table border=\"1\" class=\"dataframe\">\n",
       "  <thead>\n",
       "    <tr style=\"text-align: right;\">\n",
       "      <th></th>\n",
       "      <th>Views</th>\n",
       "    </tr>\n",
       "  </thead>\n",
       "  <tbody>\n",
       "    <tr>\n",
       "      <th>count</th>\n",
       "      <td>93440.000000</td>\n",
       "    </tr>\n",
       "    <tr>\n",
       "      <th>mean</th>\n",
       "      <td>233.924658</td>\n",
       "    </tr>\n",
       "    <tr>\n",
       "      <th>std</th>\n",
       "      <td>1956.427776</td>\n",
       "    </tr>\n",
       "    <tr>\n",
       "      <th>min</th>\n",
       "      <td>0.000000</td>\n",
       "    </tr>\n",
       "    <tr>\n",
       "      <th>25%</th>\n",
       "      <td>10.000000</td>\n",
       "    </tr>\n",
       "    <tr>\n",
       "      <th>50%</th>\n",
       "      <td>45.000000</td>\n",
       "    </tr>\n",
       "    <tr>\n",
       "      <th>75%</th>\n",
       "      <td>121.000000</td>\n",
       "    </tr>\n",
       "    <tr>\n",
       "      <th>max</th>\n",
       "      <td>217002.000000</td>\n",
       "    </tr>\n",
       "  </tbody>\n",
       "</table>\n",
       "</div>"
      ],
      "text/plain": [
       "               Views\n",
       "count   93440.000000\n",
       "mean      233.924658\n",
       "std      1956.427776\n",
       "min         0.000000\n",
       "25%        10.000000\n",
       "50%        45.000000\n",
       "75%       121.000000\n",
       "max    217002.000000"
      ]
     },
     "execution_count": 21,
     "metadata": {},
     "output_type": "execute_result"
    }
   ],
   "source": [
    "#continue data exploration\n",
    "wiki_views.describe()"
   ]
  },
  {
   "cell_type": "code",
   "execution_count": 22,
   "metadata": {
    "collapsed": false,
    "scrolled": true
   },
   "outputs": [
    {
     "data": {
      "text/plain": [
       "(93440, 3)"
      ]
     },
     "execution_count": 22,
     "metadata": {},
     "output_type": "execute_result"
    }
   ],
   "source": [
    "wiki_views.shape"
   ]
  },
  {
   "cell_type": "markdown",
   "metadata": {},
   "source": [
    "## 3 Apply ANCOVA analysis to compare pre-draft and post-draft mean Wikipedia page views by draft round \n",
    "\n",
    "### Join data from steps 1 and 2"
   ]
  },
  {
   "cell_type": "code",
   "execution_count": 23,
   "metadata": {
    "collapsed": false,
    "scrolled": true
   },
   "outputs": [],
   "source": [
    "# merge Wikipedia and draft data on player name\n",
    "draft_round = df_2018[['Player','Rnd']]\n",
    "merged = pd.merge(wiki_views,draft_round,on='Player',how='left')"
   ]
  },
  {
   "cell_type": "code",
   "execution_count": 24,
   "metadata": {
    "collapsed": true,
    "scrolled": true
   },
   "outputs": [],
   "source": [
    "# define pre and post periods\n",
    "# 2018 NFL draft took place from April 26 to April 28\n",
    "\n",
    "# pre period begins in Feb after all college bowl games are complete and ends a week before the draft\n",
    "pre = (merged['Date'] >= '2018-02-05') & (merged['Date'] <= '2018-04-19')\n",
    "\n",
    "# post period begins first day of the draft and extends a week after the draft is complete\n",
    "post = (merged['Date'] >= '2018-04-26') & (merged['Date'] <= '2018-05-05')"
   ]
  },
  {
   "cell_type": "markdown",
   "metadata": {},
   "source": [
    "### Clean the new dataframe"
   ]
  },
  {
   "cell_type": "code",
   "execution_count": 25,
   "metadata": {
    "collapsed": false,
    "scrolled": true
   },
   "outputs": [
    {
     "data": {
      "text/html": [
       "<div>\n",
       "<style scoped>\n",
       "    .dataframe tbody tr th:only-of-type {\n",
       "        vertical-align: middle;\n",
       "    }\n",
       "\n",
       "    .dataframe tbody tr th {\n",
       "        vertical-align: top;\n",
       "    }\n",
       "\n",
       "    .dataframe thead th {\n",
       "        text-align: right;\n",
       "    }\n",
       "</style>\n",
       "<table border=\"1\" class=\"dataframe\">\n",
       "  <thead>\n",
       "    <tr style=\"text-align: right;\">\n",
       "      <th></th>\n",
       "      <th>Player</th>\n",
       "      <th>Rnd</th>\n",
       "      <th>Pre_views</th>\n",
       "      <th>Post_views</th>\n",
       "    </tr>\n",
       "  </thead>\n",
       "  <tbody>\n",
       "    <tr>\n",
       "      <th>0</th>\n",
       "      <td>Ade Aruna</td>\n",
       "      <td>6</td>\n",
       "      <td>0.000000</td>\n",
       "      <td>141.6</td>\n",
       "    </tr>\n",
       "    <tr>\n",
       "      <th>1</th>\n",
       "      <td>Alex Cappa</td>\n",
       "      <td>3</td>\n",
       "      <td>3.418919</td>\n",
       "      <td>537.4</td>\n",
       "    </tr>\n",
       "    <tr>\n",
       "      <th>2</th>\n",
       "      <td>Alex McGough</td>\n",
       "      <td>7</td>\n",
       "      <td>0.000000</td>\n",
       "      <td>531.9</td>\n",
       "    </tr>\n",
       "    <tr>\n",
       "      <th>3</th>\n",
       "      <td>Andre Smith</td>\n",
       "      <td>7</td>\n",
       "      <td>6.689189</td>\n",
       "      <td>22.1</td>\n",
       "    </tr>\n",
       "    <tr>\n",
       "      <th>4</th>\n",
       "      <td>Andrew Brown</td>\n",
       "      <td>5</td>\n",
       "      <td>10.351351</td>\n",
       "      <td>19.8</td>\n",
       "    </tr>\n",
       "  </tbody>\n",
       "</table>\n",
       "</div>"
      ],
      "text/plain": [
       "         Player Rnd  Pre_views  Post_views\n",
       "0     Ade Aruna   6   0.000000       141.6\n",
       "1    Alex Cappa   3   3.418919       537.4\n",
       "2  Alex McGough   7   0.000000       531.9\n",
       "3   Andre Smith   7   6.689189        22.1\n",
       "4  Andrew Brown   5  10.351351        19.8"
      ]
     },
     "execution_count": 25,
     "metadata": {},
     "output_type": "execute_result"
    }
   ],
   "source": [
    "# limit to pre-period, rename Views to Pre_views, and keep only Player, Views, and Rnd columns\n",
    "predata=merged[['Player','Views','Rnd']].loc[pre].rename(index=str,columns={\"Views\":\"Pre_views\"})\n",
    "\n",
    "# calculate mean daily Wikipedia page views in pre-period\n",
    "predata=predata.groupby(['Player','Rnd'],as_index=False)['Pre_views'].mean()\n",
    "\n",
    "# limit to post-period, rename Views to Post_views, and keep only Player, Views, and Rnd columns\n",
    "postdata=merged[['Player','Views','Rnd']].loc[post].rename(index=str,columns={\"Views\":\"Post_views\"})\n",
    "\n",
    "# calculate mean daily Wikipedia page views in post-period\n",
    "postdata=postdata.groupby(['Player'],as_index=False)['Post_views'].mean()\n",
    "\n",
    "# merge pre and post into single df\n",
    "totdata=pd.merge(predata,postdata,on='Player',how='left')\n",
    "\n",
    "# drop Player column which is no longer necessary\n",
    "#totdata=totdata.drop(columns='Player')\n",
    "totdata.head()"
   ]
  },
  {
   "cell_type": "markdown",
   "metadata": {},
   "source": [
    "### Explore relationships between dependent and independent variables"
   ]
  },
  {
   "cell_type": "code",
   "execution_count": 26,
   "metadata": {
    "collapsed": false,
    "scrolled": true
   },
   "outputs": [
    {
     "data": {
      "text/plain": [
       "Index(['Player', 'Rnd', 'Pre_views', 'Post_views'], dtype='object')"
      ]
     },
     "execution_count": 26,
     "metadata": {},
     "output_type": "execute_result"
    }
   ],
   "source": [
    "totdata.columns"
   ]
  },
  {
   "cell_type": "code",
   "execution_count": 27,
   "metadata": {
    "collapsed": false,
    "scrolled": true
   },
   "outputs": [
    {
     "data": {
      "image/png": "[encoded data removed]",
      "text/plain": [
       "<matplotlib.figure.Figure at 0x19736a30cc0>"
      ]
     },
     "metadata": {},
     "output_type": "display_data"
    }
   ],
   "source": [
    "# plot Pre_views against Post_views to ensure there is a relationship\n",
    "plt.scatter(totdata['Pre_views'], totdata['Post_views'], alpha=0.2, color=\"purple\")\n",
    "plt.xlabel(totdata.columns[2])\n",
    "plt.ylabel(totdata.columns[3])\n",
    "plt.title(\"2018 NFL Draft Total Wiki Views - Pre vs Post\", fontdict=None, loc='center');\n",
    "\n",
    "# a relationship exists as the number of views increases, but most observations are close to 0\n",
    "# the post_views figures are many times larger than the pre_views \n",
    "# which shows that there is a large jump in Wiki views after the draft"
   ]
  },
  {
   "cell_type": "code",
   "execution_count": 28,
   "metadata": {
    "collapsed": false,
    "scrolled": true
   },
   "outputs": [
    {
     "data": {
      "image/png": "[encoded data removed]",
      "text/plain": [
       "<matplotlib.figure.Figure at 0x197362535c0>"
      ]
     },
     "metadata": {},
     "output_type": "display_data"
    }
   ],
   "source": [
    "# complete the same view for the first round\n",
    "plt.scatter(totdata[totdata.Rnd=='1']['Pre_views'], totdata[totdata.Rnd=='1']['Post_views'], alpha=0.2, color=\"purple\")\n",
    "plt.xlabel(totdata.columns[2])\n",
    "plt.ylabel(totdata.columns[3])\n",
    "plt.title(\"2018 NFL Draft Round1 Wiki Views - Pre vs Post\", fontdict=None, loc='center');\n",
    "\n",
    "# there is a pretty strong relationship here"
   ]
  },
  {
   "cell_type": "code",
   "execution_count": 29,
   "metadata": {
    "collapsed": false,
    "scrolled": true
   },
   "outputs": [
    {
     "data": {
      "image/png": "[encoded data removed]",
      "text/plain": [
       "<matplotlib.figure.Figure at 0x197362dd630>"
      ]
     },
     "metadata": {},
     "output_type": "display_data"
    }
   ],
   "source": [
    " # complete the same view for the second round\n",
    "plt.scatter(totdata[totdata.Rnd=='2']['Pre_views'], totdata[totdata.Rnd=='2']['Post_views'], alpha=0.2, color=\"purple\")\n",
    "plt.xlabel(totdata.columns[2])\n",
    "plt.ylabel(totdata.columns[3])\n",
    "plt.title(\"2018 NFL Draft Round2 Wiki Views - Pre vs Post\", fontdict=None, loc='center');\n",
    "\n",
    "# the relationship is still strong, but notice the drastic reduction in the figures on the axes"
   ]
  },
  {
   "cell_type": "code",
   "execution_count": 30,
   "metadata": {
    "collapsed": false,
    "scrolled": true
   },
   "outputs": [
    {
     "data": {
      "image/png": "[encoded data removed]",
      "text/plain": [
       "<matplotlib.figure.Figure at 0x1973632d9e8>"
      ]
     },
     "metadata": {},
     "output_type": "display_data"
    }
   ],
   "source": [
    "# complete the same view for the third round\n",
    "plt.scatter(totdata[totdata.Rnd=='3']['Pre_views'], totdata[totdata.Rnd=='3']['Post_views'], alpha=0.2, color=\"purple\")\n",
    "plt.xlabel(totdata.columns[2])\n",
    "plt.ylabel(totdata.columns[3])\n",
    "plt.title(\"2018 NFL Draft Round3 Wiki Views - Pre vs Post\", fontdict=None, loc='center');"
   ]
  },
  {
   "cell_type": "code",
   "execution_count": 31,
   "metadata": {
    "collapsed": false,
    "scrolled": true
   },
   "outputs": [
    {
     "data": {
      "image/png": "[encoded data removed]",
      "text/plain": [
       "<matplotlib.figure.Figure at 0x19736244cf8>"
      ]
     },
     "metadata": {},
     "output_type": "display_data"
    }
   ],
   "source": [
    "# complete the same view for the fourth round\n",
    "plt.scatter(totdata[totdata.Rnd=='4']['Pre_views'], totdata[totdata.Rnd=='4']['Post_views'], alpha=0.2, color=\"purple\")\n",
    "plt.xlabel(totdata.columns[2])\n",
    "plt.ylabel(totdata.columns[3])\n",
    "plt.title(\"2018 NFL Draft Round4 Wiki Views - Pre vs Post\", fontdict=None, loc='center');"
   ]
  },
  {
   "cell_type": "code",
   "execution_count": 32,
   "metadata": {
    "collapsed": false,
    "scrolled": true
   },
   "outputs": [
    {
     "data": {
      "image/png": "[encoded data removed]",
      "text/plain": [
       "<matplotlib.figure.Figure at 0x197362ed400>"
      ]
     },
     "metadata": {},
     "output_type": "display_data"
    }
   ],
   "source": [
    "# complete the same view for the fifth round\n",
    "plt.scatter(totdata[totdata.Rnd=='5']['Pre_views'], totdata[totdata.Rnd=='5']['Post_views'], alpha=0.2, color=\"purple\")\n",
    "plt.xlabel(totdata.columns[2])\n",
    "plt.ylabel(totdata.columns[3])\n",
    "plt.title(\"2018 NFL Draft Round5 Wiki Views - Pre vs Post\", fontdict=None, loc='center');\n",
    "\n",
    "# note: the fifth round has a clear outlier"
   ]
  },
  {
   "cell_type": "code",
   "execution_count": 33,
   "metadata": {
    "collapsed": false,
    "scrolled": true
   },
   "outputs": [
    {
     "data": {
      "text/html": [
       "<div>\n",
       "<style scoped>\n",
       "    .dataframe tbody tr th:only-of-type {\n",
       "        vertical-align: middle;\n",
       "    }\n",
       "\n",
       "    .dataframe tbody tr th {\n",
       "        vertical-align: top;\n",
       "    }\n",
       "\n",
       "    .dataframe thead th {\n",
       "        text-align: right;\n",
       "    }\n",
       "</style>\n",
       "<table border=\"1\" class=\"dataframe\">\n",
       "  <thead>\n",
       "    <tr style=\"text-align: right;\">\n",
       "      <th></th>\n",
       "      <th>Player</th>\n",
       "      <th>Rnd</th>\n",
       "      <th>Pre_views</th>\n",
       "      <th>Post_views</th>\n",
       "    </tr>\n",
       "  </thead>\n",
       "  <tbody>\n",
       "    <tr>\n",
       "      <th>222</th>\n",
       "      <td>Shaquem Griffin</td>\n",
       "      <td>5</td>\n",
       "      <td>4786.756757</td>\n",
       "      <td>34945.0</td>\n",
       "    </tr>\n",
       "  </tbody>\n",
       "</table>\n",
       "</div>"
      ],
      "text/plain": [
       "              Player Rnd    Pre_views  Post_views\n",
       "222  Shaquem Griffin   5  4786.756757     34945.0"
      ]
     },
     "execution_count": 33,
     "metadata": {},
     "output_type": "execute_result"
    }
   ],
   "source": [
    "# let's figure out why this fifth round pick is getting more views than the first round picks\n",
    "fifthrnd = totdata[totdata.Rnd=='5']\n",
    "fifthrnd[fifthrnd.Pre_views>1000]\n",
    "\n",
    "# Shaquem Griffin appears to be the outlier here\n",
    "# this is likely due to the significant news coverage he received since he is an amputee with one hand\n",
    "# his story is incredible! https://www.nytimes.com/2018/09/18/opinion/shaquem-griffin-football-amputee.html"
   ]
  },
  {
   "cell_type": "code",
   "execution_count": 34,
   "metadata": {
    "collapsed": false,
    "scrolled": true
   },
   "outputs": [
    {
     "data": {
      "image/png": "[encoded data removed]",
      "text/plain": [
       "<matplotlib.figure.Figure at 0x19738b6bba8>"
      ]
     },
     "metadata": {},
     "output_type": "display_data"
    }
   ],
   "source": [
    "# let's remove Shaquem so that his media coverage and high Wiki views don't bias the results of the 5th round of our model\n",
    "totdata=totdata[totdata.Player != 'Shaquem Griffin']\n",
    "\n",
    "# and let's replot the fifth round\n",
    "plt.scatter(totdata[totdata.Rnd=='5']['Pre_views'], totdata[totdata.Rnd=='5']['Post_views'], alpha=0.2, color=\"purple\")\n",
    "plt.xlabel(totdata.columns[2])\n",
    "plt.ylabel(totdata.columns[3])\n",
    "plt.title(\"2018 NFL Draft Round5 Wiki Views - Pre vs Post\", fontdict=None, loc='center');"
   ]
  },
  {
   "cell_type": "code",
   "execution_count": 35,
   "metadata": {
    "collapsed": false,
    "scrolled": true
   },
   "outputs": [
    {
     "data": {
      "image/png": "[encoded data removed]",
      "text/plain": [
       "<matplotlib.figure.Figure at 0x19738be73c8>"
      ]
     },
     "metadata": {},
     "output_type": "display_data"
    }
   ],
   "source": [
    "# complete the same view for the sixth round\n",
    "plt.scatter(totdata[totdata.Rnd=='6']['Pre_views'], totdata[totdata.Rnd=='6']['Post_views'], alpha=0.2, color=\"purple\")\n",
    "plt.xlabel(totdata.columns[2])\n",
    "plt.ylabel(totdata.columns[3])\n",
    "plt.title(\"2018 NFL Draft Round6 Wiki Views - Pre vs Post\", fontdict=None, loc='center');"
   ]
  },
  {
   "cell_type": "code",
   "execution_count": 36,
   "metadata": {
    "collapsed": false,
    "scrolled": true
   },
   "outputs": [
    {
     "data": {
      "image/png": "[encoded data removed]",
      "text/plain": [
       "<matplotlib.figure.Figure at 0x19738c3d828>"
      ]
     },
     "metadata": {},
     "output_type": "display_data"
    }
   ],
   "source": [
    "# complete the same view for the seventh round\n",
    "plt.scatter(totdata[totdata.Rnd=='7']['Pre_views'], totdata[totdata.Rnd=='7']['Post_views'], alpha=0.2, color=\"purple\")\n",
    "plt.xlabel(totdata.columns[2])\n",
    "plt.ylabel(totdata.columns[3])\n",
    "plt.title(\"2018 NFL Draft Round7 Wiki Views - Pre vs Post\", fontdict=None, loc='center');\n",
    "\n",
    "# relationship between pre and post is fairly week by the 7th round \n",
    "# this is driven by the lower number of pre-period Wiki page visits for all players drafted this late"
   ]
  },
  {
   "cell_type": "markdown",
   "metadata": {},
   "source": [
    "### Execute ANCOVA"
   ]
  },
  {
   "cell_type": "code",
   "execution_count": 37,
   "metadata": {
    "collapsed": false,
    "scrolled": true
   },
   "outputs": [
    {
     "name": "stdout",
     "output_type": "stream",
     "text": [
      "                            OLS Regression Results                            \n",
      "==============================================================================\n",
      "Dep. Variable:             Post_views   R-squared:                       0.799\n",
      "Model:                            OLS   Adj. R-squared:                  0.794\n",
      "Method:                 Least Squares   F-statistic:                     140.6\n",
      "Date:                Fri, 22 Mar 2019   Prob (F-statistic):           2.06e-82\n",
      "Time:                        11:00:18   Log-Likelihood:                -2229.7\n",
      "No. Observations:                 255   AIC:                             4475.\n",
      "Df Residuals:                     247   BIC:                             4504.\n",
      "Df Model:                           7                                         \n",
      "Covariance Type:            nonrobust                                         \n",
      "==============================================================================\n",
      "                 coef    std err          t      P>|t|      [0.025      0.975]\n",
      "------------------------------------------------------------------------------\n",
      "Intercept   2839.6897    324.837      8.742      0.000    2199.886    3479.493\n",
      "Rnd[T.2]   -2164.2783    413.387     -5.235      0.000   -2978.492   -1350.065\n",
      "Rnd[T.3]   -2511.3498    409.820     -6.128      0.000   -3318.538   -1704.162\n",
      "Rnd[T.4]   -2557.1263    407.603     -6.274      0.000   -3359.946   -1754.306\n",
      "Rnd[T.5]   -2635.5665    412.528     -6.389      0.000   -3448.088   -1823.045\n",
      "Rnd[T.6]   -2678.7136    394.488     -6.790      0.000   -3455.704   -1901.723\n",
      "Rnd[T.7]   -2603.4239    403.382     -6.454      0.000   -3397.932   -1808.916\n",
      "Pre_views      7.6060      0.335     22.711      0.000       6.946       8.266\n",
      "==============================================================================\n",
      "Omnibus:                      174.837   Durbin-Watson:                   1.958\n",
      "Prob(Omnibus):                  0.000   Jarque-Bera (JB):            10443.902\n",
      "Skew:                           1.957   Prob(JB):                         0.00\n",
      "Kurtosis:                      34.107   Cond. No.                     3.14e+03\n",
      "==============================================================================\n",
      "\n",
      "Warnings:\n",
      "[1] Standard Errors assume that the covariance matrix of the errors is correctly specified.\n",
      "[2] The condition number is large, 3.14e+03. This might indicate that there are\n",
      "strong multicollinearity or other numerical problems.\n"
     ]
    }
   ],
   "source": [
    "from statsmodels.formula.api import ols\n",
    "\n",
    "# build and execute model\n",
    "formula = 'Post_views ~ Pre_views + Rnd'\n",
    "lm = ols(formula, totdata).fit()\n",
    "print(lm.summary())"
   ]
  },
  {
   "cell_type": "markdown",
   "metadata": {},
   "source": [
    "### RESULTS\n",
    "    * Post_views = 2,840 + 7.6*Pre_views + Rnd\n",
    "    * There is a statistically significant reduction in page views if a player is drafted later than the 1st round\n",
    "    * The impact of being drafted in rounds 2 - 7 is estimated at ~ 2.2K to 2.6K fewer daily post period page views \n",
    "      than if the  player had been drafted in the 1st round\n",
    "    * While the coefficients show an estimated decrease in impact to page visits as the draft round increases, \n",
    "      there is a significant overlap in the confidence internals even between rounds 2 and 7. \n",
    "      Thus, there is no statistical conclusion that being drafted in round 2 provides more views \n",
    "      than being drafted in a later round"
   ]
  }
 ],
 "metadata": {
  "anaconda-cloud": {},
  "kernelspec": {
   "display_name": "Python [conda env:Anaconda3]",
   "language": "python",
   "name": "conda-env-Anaconda3-py"
  },
  "language_info": {
   "codemirror_mode": {
    "name": "ipython",
    "version": 3
   },
   "file_extension": ".py",
   "mimetype": "text/x-python",
   "name": "python",
   "nbconvert_exporter": "python",
   "pygments_lexer": "ipython3",
   "version": "3.5.2"
  }
 },
 "nbformat": 4,
 "nbformat_minor": 1
}
